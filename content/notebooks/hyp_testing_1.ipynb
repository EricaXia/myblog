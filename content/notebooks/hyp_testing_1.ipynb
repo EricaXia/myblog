{
 "metadata": {
  "language_info": {
   "codemirror_mode": {
    "name": "ipython",
    "version": 3
   },
   "file_extension": ".py",
   "mimetype": "text/x-python",
   "name": "python",
   "nbconvert_exporter": "python",
   "pygments_lexer": "ipython3",
   "version": "3.7.7-final"
  },
  "orig_nbformat": 2,
  "kernelspec": {
   "name": "python3",
   "display_name": "Python 3",
   "language": "python"
  }
 },
 "nbformat": 4,
 "nbformat_minor": 2,
 "cells": [
  {
   "cell_type": "code",
   "execution_count": 1,
   "metadata": {},
   "outputs": [
    {
     "output_type": "stream",
     "name": "stderr",
     "text": [
      "[NbConvertApp] WARNING | Config option `kernel_spec_manager_class` not recognized by `NbConvertApp`.\n[NbConvertApp] Converting notebook hyp_testing_1.ipynb to html\n[NbConvertApp] Writing 272991 bytes to hyp_testing_1.html\n"
     ]
    }
   ],
   "source": [
    "!jupyter nbconvert --to html hyp_testing_1.ipynb"
   ]
  },
  {
   "source": [
    "# Overview of Hypothesis Testing\n",
    "\n",
    "### Outline\n",
    "- Hypothesis testing basics\n",
    "- Null vs Alternative Hypothesis\n",
    "- Normal Distribution, Z-scores, Standardization\n",
    "- Level of (Statistical) Significance\n",
    "- Alpha\n",
    "- Type I vs Type II error\n",
    "- One Tailed Test, Two Tailed Test\n",
    "- P-value, Power\n",
    "- Degrees of Freedom"
   ],
   "cell_type": "markdown",
   "metadata": {}
  },
  {
   "source": [
    "## What is Hypothesis Testing?\n",
    "A hypothesis is an educated guess about the state of the world that can be verified by an experiment or observation."
   ],
   "cell_type": "markdown",
   "metadata": {}
  }
 ]
}